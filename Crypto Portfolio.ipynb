{
 "cells": [
  {
   "cell_type": "markdown",
   "metadata": {},
   "source": [
    "# Manage your Cryptocurrency Portfolio"
   ]
  },
  {
   "cell_type": "markdown",
   "metadata": {},
   "source": [
    "#### import libraries\n",
    "1. requests ------- for data query\n",
    "1. prettytables --- for displaying the tabular data in terminal\n",
    "1. colorama ------- for color manipulation in terminal "
   ]
  },
  {
   "cell_type": "code",
   "execution_count": 1,
   "metadata": {},
   "outputs": [],
   "source": [
    "import os\n",
    "import json\n",
    "from requests import Request, Session\n",
    "from prettytable import PrettyTable\n",
    "from colorama import Fore, Back, Style"
   ]
  },
  {
   "cell_type": "markdown",
   "metadata": {},
   "source": [
    "#### create the requests session\n",
    "add your coinCapGLobal API key.\n",
    "I have used the sandbox API"
   ]
  },
  {
   "cell_type": "code",
   "execution_count": 2,
   "metadata": {},
   "outputs": [],
   "source": [
    "url = 'https://sandbox-api.coinmarketcap.com/v1/cryptocurrency/listings/latest'\n",
    "\n",
    "parameters = {\n",
    "  'convert':'INR'\n",
    "}\n",
    "\n",
    "headers = {\n",
    "  'Accepts': 'application/json',\n",
    "  'X-CMC_PRO_API_KEY': '<YOUR API KEY>',\n",
    "}\n",
    "\n",
    "session = Session()\n",
    "session.headers.update(headers)"
   ]
  },
  {
   "cell_type": "code",
   "execution_count": 3,
   "metadata": {},
   "outputs": [
    {
     "name": "stdout",
     "output_type": "stream",
     "text": [
      "{'status': {'timestamp': '2019-12-13T19:03:58.252Z', 'error_code': 0, 'error_message': None, 'elapsed': 70, 'credit_count': 1}, 'data': [{'id': 1, 'name': 'Bitcoin', 'symbol': 'BTC', 'slug': 'bitcoin', 'num_market_pairs': 7919, 'date_added': '2013-04-28T00:00:00.000Z', 'tags': ['mineable'], 'max_supply': 21000000, 'circulating_supply': 17906012, 'total_supply': 17906012, 'platform': None, 'cmc_rank': 1, 'last_updated': '2019-08-30T18:51:28.000Z', 'quote': {'INR': {'price': 685965.3767442628, 'volume_24h': 985252019788.2831, 'percent_change_1h': -0.1273, 'percent_change_24h': 0.3289, 'percent_change_7d': -8.0058, 'market_cap': 12282904267567.291, 'last_updated': '2019-08-30T18:51:02.000Z'}}}, {'id': 1027, 'name': 'Ethereum', 'symbol': 'ETH', 'slug': 'ethereum', 'num_market_pairs': 5629, 'date_added': '2015-08-07T00:00:00.000Z', 'tags': ['mineable'], 'max_supply': None, 'circulating_supply': 107537936.374, 'total_supply': 107537936.374, 'platform': None, 'cmc_rank': 2, 'last_updated': '2019-08-30T18:51:21.000Z', 'quote': {'INR': {'price': 12105.867755879828, 'volume_24h': 414391885203.771, 'percent_change_1h': -0.033, 'percent_change_24h': -0.5108, 'percent_change_7d': -13.1883, 'market_cap': 1301840036483.8633, 'last_updated': '2019-08-30T18:51:02.000Z'}}}, {'id': 52, 'name': 'XRP', 'symbol': 'XRP', 'slug': 'ripple', 'num_market_pairs': 449, 'date_added': '2013-08-04T00:00:00.000Z', 'tags': [], 'max_supply': 100000000000, 'circulating_supply': 42932866967, 'total_supply': 99991366793, 'platform': None, 'cmc_rank': 3, 'last_updated': '2019-08-30T18:51:03.000Z', 'quote': {'INR': {'price': 18.260389327425624, 'volume_24h': 66510345261.90098, 'percent_change_1h': -0.1871, 'percent_change_24h': -1.8586, 'percent_change_7d': -7.8163, 'market_cap': 783970865759.9911, 'last_updated': '2019-08-30T18:51:02.000Z'}}}, {'id': 1831, 'name': 'Bitcoin Cash', 'symbol': 'BCH', 'slug': 'bitcoin-cash', 'num_market_pairs': 378, 'date_added': '2017-07-23T00:00:00.000Z', 'tags': ['mineable'], 'max_supply': 21000000, 'circulating_supply': 17975975, 'total_supply': 17975975, 'platform': None, 'cmc_rank': 4, 'last_updated': '2019-08-30T18:51:08.000Z', 'quote': {'INR': {'price': 20167.926385122537, 'volume_24h': 100969105404.90738, 'percent_change_1h': 0.2414, 'percent_change_24h': 0.4347, 'percent_change_7d': -10.2967, 'market_cap': 362538140500.8031, 'last_updated': '2019-08-30T18:51:02.000Z'}}}, {'id': 2, 'name': 'Litecoin', 'symbol': 'LTC', 'slug': 'litecoin', 'num_market_pairs': 538, 'date_added': '2013-04-28T00:00:00.000Z', 'tags': ['mineable'], 'max_supply': 84000000, 'circulating_supply': 63147124.0076922, 'total_supply': 63147124.0076922, 'platform': None, 'cmc_rank': 5, 'last_updated': '2019-08-30T18:51:04.000Z', 'quote': {'INR': {'price': 4617.984952880602, 'volume_24h': 173876396874.91803, 'percent_change_1h': -0.1476, 'percent_change_24h': -0.6052, 'percent_change_7d': -14.3377, 'market_cap': 291612468485.20795, 'last_updated': '2019-08-30T18:51:02.000Z'}}}, {'id': 825, 'name': 'Tether', 'symbol': 'USDT', 'slug': 'tether', 'num_market_pairs': 3016, 'date_added': '2015-02-25T00:00:00.000Z', 'tags': [], 'max_supply': None, 'circulating_supply': 4008269411.01333, 'total_supply': 4095057493.36343, 'platform': {'id': 83, 'name': 'Omni', 'symbol': 'OMNI', 'slug': 'omni', 'token_address': '31'}, 'cmc_rank': 6, 'last_updated': '2019-08-30T18:51:12.000Z', 'quote': {'INR': {'price': 71.98579077828967, 'volume_24h': 1145031089041.155, 'percent_change_1h': 0.0135, 'percent_change_24h': 0.1665, 'percent_change_7d': -0.0105, 'market_cap': 288538443204.22394, 'last_updated': '2019-08-30T18:51:02.000Z'}}}, {'id': 1765, 'name': 'EOS', 'symbol': 'EOS', 'slug': 'eos', 'num_market_pairs': 338, 'date_added': '2017-07-01T00:00:00.000Z', 'tags': [], 'max_supply': None, 'circulating_supply': 929651261.8605, 'total_supply': 1026351273.1073, 'platform': None, 'cmc_rank': 7, 'last_updated': '2019-08-30T18:51:06.000Z', 'quote': {'INR': {'price': 230.7457580625791, 'volume_24h': 87456893673.10301, 'percent_change_1h': -0.1247, 'percent_change_24h': -0.5744, 'percent_change_7d': -12.8349, 'market_cap': 214513085151.83432, 'last_updated': '2019-08-30T18:51:02.000Z'}}}, {'id': 1839, 'name': 'Binance Coin', 'symbol': 'BNB', 'slug': 'binance-coin', 'num_market_pairs': 249, 'date_added': '2017-07-25T00:00:00.000Z', 'tags': [], 'max_supply': 187536713, 'circulating_supply': 129175490.242999, 'total_supply': 189175490.242499, 'platform': None, 'cmc_rank': 8, 'last_updated': '2019-08-30T18:51:06.000Z', 'quote': {'INR': {'price': 1599.396443554313, 'volume_24h': 12881490173.686544, 'percent_change_1h': -0.3845, 'percent_change_24h': 1.1823, 'percent_change_7d': -18.1815, 'market_cap': 206602819689.03745, 'last_updated': '2019-08-30T18:51:02.000Z'}}}, {'id': 3602, 'name': 'Bitcoin SV', 'symbol': 'BSV', 'slug': 'bitcoin-sv', 'num_market_pairs': 145, 'date_added': '2018-11-09T00:00:00.000Z', 'tags': ['mineable'], 'max_supply': 21000000, 'circulating_supply': 17854985.7508877, 'total_supply': 17854985.7508877, 'platform': None, 'cmc_rank': 9, 'last_updated': '2019-08-30T18:51:17.000Z', 'quote': {'INR': {'price': 9213.948535798796, 'volume_24h': 23123185125.075893, 'percent_change_1h': -0.1704, 'percent_change_24h': -1.4777, 'percent_change_7d': -5.5162, 'market_cap': 164514919816.1001, 'last_updated': '2019-08-30T18:51:02.000Z'}}}, {'id': 512, 'name': 'Stellar', 'symbol': 'XLM', 'slug': 'stellar', 'num_market_pairs': 283, 'date_added': '2014-08-05T00:00:00.000Z', 'tags': [], 'max_supply': None, 'circulating_supply': 19639376092.5818, 'total_supply': 105283157144.904, 'platform': None, 'cmc_rank': 10, 'last_updated': '2019-08-30T18:51:03.000Z', 'quote': {'INR': {'price': 4.466497434111253, 'volume_24h': 5632500060.826114, 'percent_change_1h': -0.6, 'percent_change_24h': -0.659, 'percent_change_7d': -9.8171, 'market_cap': 87719222925.06248, 'last_updated': '2019-08-30T18:51:02.000Z'}}}, {'id': 328, 'name': 'Monero', 'symbol': 'XMR', 'slug': 'monero', 'num_market_pairs': 133, 'date_added': '2014-05-21T00:00:00.000Z', 'tags': ['mineable'], 'max_supply': None, 'circulating_supply': 17182432.3964597, 'total_supply': 17182432.3964597, 'platform': None, 'cmc_rank': 11, 'last_updated': '2019-08-30T18:51:03.000Z', 'quote': {'INR': {'price': 4854.2368608247, 'volume_24h': 4458980512.216189, 'percent_change_1h': 0.0982, 'percent_change_24h': -1.8262, 'percent_change_7d': -18.2352, 'market_cap': 83407596697.52315, 'last_updated': '2019-08-30T18:51:02.000Z'}}}, {'id': 2010, 'name': 'Cardano', 'symbol': 'ADA', 'slug': 'cardano', 'num_market_pairs': 102, 'date_added': '2017-10-01T00:00:00.000Z', 'tags': ['mineable'], 'max_supply': 45000000000, 'circulating_supply': 25927070538, 'total_supply': 31112483745, 'platform': None, 'cmc_rank': 12, 'last_updated': '2019-08-30T18:51:07.000Z', 'quote': {'INR': {'price': 3.200653384008121, 'volume_24h': 4001120733.327522, 'percent_change_1h': -0.6832, 'percent_change_24h': 0.2833, 'percent_change_7d': -10.0613, 'market_cap': 82983566054.86694, 'last_updated': '2019-08-30T18:51:02.000Z'}}}, {'id': 3957, 'name': 'UNUS SED LEO', 'symbol': 'LEO', 'slug': 'unus-sed-leo', 'num_market_pairs': 20, 'date_added': '2019-05-21T00:00:00.000Z', 'tags': [], 'max_supply': None, 'circulating_supply': 999498892.9, 'total_supply': 999498892.9, 'platform': {'id': 1027, 'name': 'Ethereum', 'symbol': 'ETH', 'slug': 'ethereum', 'token_address': '0x2af5d2ad76741191d15dfe7bf6ac92d4bd912ca3'}, 'cmc_rank': 13, 'last_updated': '2019-08-30T18:51:20.000Z', 'quote': {'INR': {'price': 81.98359283603764, 'volume_24h': 432157202.1709833, 'percent_change_1h': 0.0012, 'percent_change_24h': 0.4028, 'percent_change_7d': -4.8553, 'market_cap': 81942510275.584, 'last_updated': '2019-08-30T18:51:02.000Z'}}}, {'id': 1958, 'name': 'TRON', 'symbol': 'TRX', 'slug': 'tron', 'num_market_pairs': 261, 'date_added': '2017-09-13T00:00:00.000Z', 'tags': ['mineable'], 'max_supply': None, 'circulating_supply': 66682072191.4, 'total_supply': 99281283754.3, 'platform': None, 'cmc_rank': 14, 'last_updated': '2019-08-30T18:51:08.000Z', 'quote': {'INR': {'price': 1.11958114400155, 'volume_24h': 31872661656.007717, 'percent_change_1h': -0.0506, 'percent_change_24h': 0.498, 'percent_change_7d': -13.7139, 'market_cap': 74655990668.44154, 'last_updated': '2019-08-30T18:51:02.000Z'}}}, {'id': 131, 'name': 'Dash', 'symbol': 'DASH', 'slug': 'dash', 'num_market_pairs': 253, 'date_added': '2014-02-14T00:00:00.000Z', 'tags': ['mineable'], 'max_supply': 18900000, 'circulating_supply': 9007359.47624625, 'total_supply': 9007359.47624625, 'platform': None, 'cmc_rank': 15, 'last_updated': '2019-08-30T18:51:03.000Z', 'quote': {'INR': {'price': 5814.365183076032, 'volume_24h': 14347125046.166899, 'percent_change_1h': -0.2003, 'percent_change_24h': 0.5514, 'percent_change_7d': -13.8516, 'market_cap': 52372077330.13616, 'last_updated': '2019-08-30T18:51:02.000Z'}}}, {'id': 1321, 'name': 'Ethereum Classic', 'symbol': 'ETC', 'slug': 'ethereum-classic', 'num_market_pairs': 208, 'date_added': '2016-07-24T00:00:00.000Z', 'tags': ['mineable'], 'max_supply': 210000000, 'circulating_supply': 113095995, 'total_supply': 113095995, 'platform': None, 'cmc_rank': 16, 'last_updated': '2019-08-30T18:51:04.000Z', 'quote': {'INR': {'price': 460.93281588975384, 'volume_24h': 54402004008.5141, 'percent_change_1h': 0.2471, 'percent_change_24h': 7.8193, 'percent_change_7d': -9.162, 'market_cap': 52129655441.20352, 'last_updated': '2019-08-30T18:51:02.000Z'}}}, {'id': 2011, 'name': 'Tezos', 'symbol': 'XTZ', 'slug': 'tezos', 'num_market_pairs': 39, 'date_added': '2017-10-02T00:00:00.000Z', 'tags': [], 'max_supply': None, 'circulating_supply': 660373611.97278, 'total_supply': 801312599.488106, 'platform': None, 'cmc_rank': 17, 'last_updated': '2019-08-30T18:51:07.000Z', 'quote': {'INR': {'price': 75.48762656208194, 'volume_24h': 752239178.148817, 'percent_change_1h': -1.0099, 'percent_change_24h': 2.676, 'percent_change_7d': -10.5557, 'market_cap': 49850036612.05441, 'last_updated': '2019-08-30T18:51:02.000Z'}}}, {'id': 1720, 'name': 'IOTA', 'symbol': 'MIOTA', 'slug': 'iota', 'num_market_pairs': 45, 'date_added': '2017-06-13T00:00:00.000Z', 'tags': [], 'max_supply': 2779530283, 'circulating_supply': 2779530283, 'total_supply': 2779530283, 'platform': None, 'cmc_rank': 18, 'last_updated': '2019-08-30T18:51:06.000Z', 'quote': {'INR': {'price': 17.895106701051503, 'volume_24h': 441925227.14503354, 'percent_change_1h': 0.0808, 'percent_change_24h': 0.0474, 'percent_change_7d': -4.4753, 'market_cap': 49739990993.088875, 'last_updated': '2019-08-30T18:51:02.000Z'}}}, {'id': 1975, 'name': 'Chainlink', 'symbol': 'LINK', 'slug': 'chainlink', 'num_market_pairs': 87, 'date_added': '2017-09-20T00:00:00.000Z', 'tags': [], 'max_supply': None, 'circulating_supply': 350000000, 'total_supply': 1000000000, 'platform': {'id': 1027, 'name': 'Ethereum', 'symbol': 'ETH', 'slug': 'ethereum', 'token_address': '0x514910771af9ca656af840dff83e8264ecf986ca'}, 'cmc_rank': 19, 'last_updated': '2019-08-30T18:51:08.000Z', 'quote': {'INR': {'price': 130.23566946093462, 'volume_24h': 3720822479.6350665, 'percent_change_1h': -1.017, 'percent_change_24h': 1.6696, 'percent_change_7d': -19.9727, 'market_cap': 45582484311.32712, 'last_updated': '2019-08-30T18:51:02.000Z'}}}, {'id': 1376, 'name': 'NEO', 'symbol': 'NEO', 'slug': 'neo', 'num_market_pairs': 199, 'date_added': '2016-09-08T00:00:00.000Z', 'tags': [], 'max_supply': 100000000, 'circulating_supply': 70538831, 'total_supply': 100000000, 'platform': None, 'cmc_rank': 20, 'last_updated': '2019-08-30T18:51:05.000Z', 'quote': {'INR': {'price': 632.8176526753324, 'volume_24h': 15427246513.477734, 'percent_change_1h': -0.0084, 'percent_change_24h': 0.6979, 'percent_change_7d': -11.0916, 'market_cap': 44638217455.881966, 'last_updated': '2019-08-30T18:51:02.000Z'}}}, {'id': 1518, 'name': 'Maker', 'symbol': 'MKR', 'slug': 'maker', 'num_market_pairs': 72, 'date_added': '2017-01-29T00:00:00.000Z', 'tags': [], 'max_supply': None, 'circulating_supply': 1000000, 'total_supply': 1000000, 'platform': {'id': 1027, 'name': 'Ethereum', 'symbol': 'ETH', 'slug': 'ethereum', 'token_address': '0x9f8f72aa9304c8b593d555f12ef6589cc3a579a2'}, 'cmc_rank': 21, 'last_updated': '2019-08-30T18:51:05.000Z', 'quote': {'INR': {'price': 33811.29644236323, 'volume_24h': 1031886679.7690295, 'percent_change_1h': 0.8007, 'percent_change_24h': -0.1818, 'percent_change_7d': -7.0292, 'market_cap': 33811296442.363228, 'last_updated': '2019-08-30T18:51:02.000Z'}}}, {'id': 3408, 'name': 'USD Coin', 'symbol': 'USDC', 'slug': 'usd-coin', 'num_market_pairs': 157, 'date_added': '2018-10-08T00:00:00.000Z', 'tags': [], 'max_supply': None, 'circulating_supply': 450721758.794571, 'total_supply': 452174935.73, 'platform': {'id': 1027, 'name': 'Ethereum', 'symbol': 'ETH', 'slug': 'ethereum', 'token_address': '0xa0b86991c6218b36c1d19d4a2e9eb0ce3606eb48'}, 'cmc_rank': 22, 'last_updated': '2019-08-30T18:51:16.000Z', 'quote': {'INR': {'price': 71.80327110013326, 'volume_24h': 8315683409.239968, 'percent_change_1h': 0.0094, 'percent_change_24h': -0.1518, 'percent_change_7d': 0.0011, 'market_cap': 32363296637.455452, 'last_updated': '2019-08-30T18:51:02.000Z'}}}, {'id': 873, 'name': 'NEM', 'symbol': 'XEM', 'slug': 'nem', 'num_market_pairs': 88, 'date_added': '2015-04-01T00:00:00.000Z', 'tags': [], 'max_supply': None, 'circulating_supply': 8999999999, 'total_supply': 8999999999, 'platform': None, 'cmc_rank': 23, 'last_updated': '2019-08-30T18:51:03.000Z', 'quote': {'INR': {'price': 3.5774784075889072, 'volume_24h': 775358956.5108764, 'percent_change_1h': -0.1681, 'percent_change_24h': 5.475, 'percent_change_7d': -10.9771, 'market_cap': 32197305664.722687, 'last_updated': '2019-08-30T18:51:02.000Z'}}}, {'id': 3794, 'name': 'Cosmos', 'symbol': 'ATOM', 'slug': 'cosmos', 'num_market_pairs': 89, 'date_added': '2019-03-14T00:00:00.000Z', 'tags': ['mineable'], 'max_supply': None, 'circulating_supply': 190688439.2, 'total_supply': 237928230.821588, 'platform': None, 'cmc_rank': 24, 'last_updated': '2019-08-30T18:51:20.000Z', 'quote': {'INR': {'price': 156.09787725611747, 'volume_24h': 7346778208.384931, 'percent_change_1h': -0.2618, 'percent_change_24h': -2.0029, 'percent_change_7d': -18.7778, 'market_cap': 29766060576.402218, 'last_updated': '2019-08-30T18:51:02.000Z'}}}, {'id': 2566, 'name': 'Ontology', 'symbol': 'ONT', 'slug': 'ontology', 'num_market_pairs': 89, 'date_added': '2018-03-08T00:00:00.000Z', 'tags': [], 'max_supply': None, 'circulating_supply': 533483170, 'total_supply': 1000000000, 'platform': None, 'cmc_rank': 25, 'last_updated': '2019-08-30T18:51:12.000Z', 'quote': {'INR': {'price': 51.62847600127972, 'volume_24h': 2977364669.114665, 'percent_change_1h': -0.1104, 'percent_change_24h': 1.3772, 'percent_change_7d': -6.0069, 'market_cap': 27542923039.43163, 'last_updated': '2019-08-30T18:51:02.000Z'}}}, {'id': 3635, 'name': 'Crypto.com Chain', 'symbol': 'CRO', 'slug': 'crypto-com-chain', 'num_market_pairs': 34, 'date_added': '2018-12-14T00:00:00.000Z', 'tags': [], 'max_supply': None, 'circulating_supply': 9363013698.63013, 'total_supply': 100000000000, 'platform': {'id': 1027, 'name': 'Ethereum', 'symbol': 'ETH', 'slug': 'ethereum', 'token_address': '0xa0b73e1ff0b80914ab6fe0444e65848c4c34450b'}, 'cmc_rank': 26, 'last_updated': '2019-08-30T18:51:18.000Z', 'quote': {'INR': {'price': 2.786573408238197, 'volume_24h': 556937948.174664, 'percent_change_1h': -0.0798, 'percent_change_24h': -3.6251, 'percent_change_7d': -10.3713, 'market_cap': 26090724993.572693, 'last_updated': '2019-08-30T18:51:02.000Z'}}}, {'id': 1437, 'name': 'Zcash', 'symbol': 'ZEC', 'slug': 'zcash', 'num_market_pairs': 203, 'date_added': '2016-10-29T00:00:00.000Z', 'tags': ['mineable'], 'max_supply': None, 'circulating_supply': 7305831.25, 'total_supply': 7305831.25, 'platform': None, 'cmc_rank': 27, 'last_updated': '2019-08-30T18:51:05.000Z', 'quote': {'INR': {'price': 3219.6081412393874, 'volume_24h': 7373540913.405984, 'percent_change_1h': 0.3513, 'percent_change_24h': -0.8007, 'percent_change_7d': -12.3373, 'market_cap': 23521913771.021133, 'last_updated': '2019-08-30T18:51:02.000Z'}}}, {'id': 74, 'name': 'Dogecoin', 'symbol': 'DOGE', 'slug': 'dogecoin', 'num_market_pairs': 334, 'date_added': '2013-12-15T00:00:00.000Z', 'tags': ['mineable'], 'max_supply': None, 'circulating_supply': 120995511967.063, 'total_supply': 120995511967.063, 'platform': None, 'cmc_rank': 28, 'last_updated': '2019-08-30T18:51:03.000Z', 'quote': {'INR': {'price': 0.17710725873928337, 'volume_24h': 1841307052.0609863, 'percent_change_1h': -0.3514, 'percent_change_24h': 0.584, 'percent_change_7d': -9.2335, 'market_cap': 21429183444.242683, 'last_updated': '2019-08-30T18:51:02.000Z'}}}, {'id': 3704, 'name': 'V Systems', 'symbol': 'VSYS', 'slug': 'v-systems', 'num_market_pairs': 18, 'date_added': '2019-03-05T00:00:00.000Z', 'tags': [], 'max_supply': None, 'circulating_supply': 1792484432, 'total_supply': 3697342896, 'platform': None, 'cmc_rank': 29, 'last_updated': '2019-08-30T18:51:18.000Z', 'quote': {'INR': {'price': 11.364132388106409, 'volume_24h': 751756647.5739152, 'percent_change_1h': -0.0004, 'percent_change_24h': 0.0627, 'percent_change_7d': -17.1179, 'market_cap': 20370030388.867718, 'last_updated': '2019-08-30T18:51:02.000Z'}}}, {'id': 1168, 'name': 'Decred', 'symbol': 'DCR', 'slug': 'decred', 'num_market_pairs': 42, 'date_added': '2016-02-10T00:00:00.000Z', 'tags': ['mineable'], 'max_supply': 21000000, 'circulating_supply': 10312372.2197415, 'total_supply': 10312372.2197415, 'platform': None, 'cmc_rank': 30, 'last_updated': '2019-08-30T18:51:03.000Z', 'quote': {'INR': {'price': 1636.1237576717413, 'volume_24h': 370491327.5729781, 'percent_change_1h': -0.1894, 'percent_change_24h': 0.5223, 'percent_change_7d': -10.2401, 'market_cap': 16872317186.67314, 'last_updated': '2019-08-30T18:51:02.000Z'}}}, {'id': 3657, 'name': 'Lambda', 'symbol': 'LAMB', 'slug': 'lambda', 'num_market_pairs': 48, 'date_added': '2019-01-02T00:00:00.000Z', 'tags': [], 'max_supply': 10000000000, 'circulating_supply': 1416666665, 'total_supply': 6000000000, 'platform': {'id': 1027, 'name': 'Ethereum', 'symbol': 'ETH', 'slug': 'ethereum', 'token_address': '0x8971f9fd7196e5cee2c1032b50f656855af7dd26'}, 'cmc_rank': 31, 'last_updated': '2019-08-30T18:51:18.000Z', 'quote': {'INR': {'price': 11.65320958690929, 'volume_24h': 3061017105.2094417, 'percent_change_1h': 0.2765, 'percent_change_24h': -2.7793, 'percent_change_7d': -7.4857, 'market_cap': 16508713562.03281, 'last_updated': '2019-08-30T18:51:02.000Z'}}}, {'id': 3077, 'name': 'VeChain', 'symbol': 'VET', 'slug': 'vechain', 'num_market_pairs': 73, 'date_added': '2017-08-22T00:00:00.000Z', 'tags': [], 'max_supply': None, 'circulating_supply': 55454734800, 'total_supply': 86712634466, 'platform': None, 'cmc_rank': 32, 'last_updated': '2019-08-30T18:51:14.000Z', 'quote': {'INR': {'price': 0.2939755210546455, 'volume_24h': 1804763147.4760242, 'percent_change_1h': -0.0209, 'percent_change_24h': -0.243, 'percent_change_7d': -11.3203, 'market_cap': 16302334557.777184, 'last_updated': '2019-08-30T18:51:02.000Z'}}}, {'id': 1697, 'name': 'Basic Attention Token', 'symbol': 'BAT', 'slug': 'basic-attention-token', 'num_market_pairs': 144, 'date_added': '2017-06-01T00:00:00.000Z', 'tags': [], 'max_supply': None, 'circulating_supply': 1279225522.3263, 'total_supply': 1500000000, 'platform': {'id': 1027, 'name': 'Ethereum', 'symbol': 'ETH', 'slug': 'ethereum', 'token_address': '0x0d8775f648430679a709e98d2b0cb6250d2887ef'}, 'cmc_rank': 33, 'last_updated': '2019-08-30T18:51:05.000Z', 'quote': {'INR': {'price': 12.727681748469504, 'volume_24h': 1311613885.9510448, 'percent_change_1h': -0.4081, 'percent_change_24h': 3.9802, 'percent_change_7d': -10.3928, 'market_cap': 16281575332.688812, 'last_updated': '2019-08-30T18:51:02.000Z'}}}, {'id': 1684, 'name': 'Qtum', 'symbol': 'QTUM', 'slug': 'qtum', 'num_market_pairs': 161, 'date_added': '2017-05-24T00:00:00.000Z', 'tags': [], 'max_supply': 107822406, 'circulating_supply': 95980752.0484598, 'total_supply': 101730772, 'platform': None, 'cmc_rank': 34, 'last_updated': '2019-08-30T18:51:06.000Z', 'quote': {'INR': {'price': 152.2825417315206, 'volume_24h': 9878501737.916218, 'percent_change_1h': -0.3146, 'percent_change_24h': 0.1043, 'percent_change_7d': -18.5135, 'market_cap': 14616192879.242311, 'last_updated': '2019-08-30T18:51:02.000Z'}}}, {'id': 3330, 'name': 'Paxos Standard Token', 'symbol': 'PAX', 'slug': 'paxos-standard-token', 'num_market_pairs': 108, 'date_added': '2018-09-27T00:00:00.000Z', 'tags': [], 'max_supply': None, 'circulating_supply': 198448344.575303, 'total_supply': 198448424.7, 'platform': {'id': 1027, 'name': 'Ethereum', 'symbol': 'ETH', 'slug': 'ethereum', 'token_address': '0x8e870d67f660d95d5be530380d0ec0bd388289e1'}, 'cmc_rank': 35, 'last_updated': '2019-08-30T18:51:17.000Z', 'quote': {'INR': {'price': 72.03744573597255, 'volume_24h': 22641039714.803917, 'percent_change_1h': -0.0008, 'percent_change_24h': 0.127, 'percent_change_7d': 0.2014, 'market_cap': 14295711853.736973, 'last_updated': '2019-08-30T18:51:02.000Z'}}}, {'id': 2563, 'name': 'TrueUSD', 'symbol': 'TUSD', 'slug': 'trueusd', 'num_market_pairs': 161, 'date_added': '2018-03-06T00:00:00.000Z', 'tags': [], 'max_supply': None, 'circulating_supply': 198193494.22, 'total_supply': 198193494.22, 'platform': {'id': 1027, 'name': 'Ethereum', 'symbol': 'ETH', 'slug': 'ethereum', 'token_address': '0x0000000000085d4780B73119b644AE5ecd22b376'}, 'cmc_rank': 36, 'last_updated': '2019-08-30T18:51:11.000Z', 'quote': {'INR': {'price': 71.96197484069417, 'volume_24h': 26865408850.778744, 'percent_change_1h': 0.0126, 'percent_change_24h': 0.072, 'percent_change_7d': 0.1271, 'market_cap': 14262395244.648903, 'last_updated': '2019-08-30T18:51:02.000Z'}}}, {'id': 2083, 'name': 'Bitcoin Gold', 'symbol': 'BTG', 'slug': 'bitcoin-gold', 'num_market_pairs': 79, 'date_added': '2017-10-23T00:00:00.000Z', 'tags': ['mineable'], 'max_supply': 21000000, 'circulating_supply': 17413923.588994, 'total_supply': 17513923.588994, 'platform': None, 'cmc_rank': 37, 'last_updated': '2019-08-30T18:51:07.000Z', 'quote': {'INR': {'price': 797.7392580059869, 'volume_24h': 776495779.3195423, 'percent_change_1h': -0.1373, 'percent_change_24h': -1.2997, 'percent_change_7d': -21.0299, 'market_cap': 13891770482.857027, 'last_updated': '2019-08-30T18:51:02.000Z'}}}, {'id': 2502, 'name': 'Huobi Token', 'symbol': 'HT', 'slug': 'huobi-token', 'num_market_pairs': 89, 'date_added': '2018-02-03T00:00:00.000Z', 'tags': [], 'max_supply': None, 'circulating_supply': 50000200, 'total_supply': 500000000, 'platform': {'id': 1027, 'name': 'Ethereum', 'symbol': 'ETH', 'slug': 'ethereum', 'token_address': '0x6f259637dcd74c767781e37bc6133cd6a68aa161'}, 'cmc_rank': 38, 'last_updated': '2019-08-30T18:51:11.000Z', 'quote': {'INR': {'price': 274.4561948778295, 'volume_24h': 6316484303.003957, 'percent_change_1h': -0.3185, 'percent_change_24h': -1.5486, 'percent_change_7d': -21.3622, 'market_cap': 13722864635.13045, 'last_updated': '2019-08-30T18:51:02.000Z'}}}, {'id': 1866, 'name': 'Bytom', 'symbol': 'BTM', 'slug': 'bytom', 'num_market_pairs': 49, 'date_added': '2017-08-08T00:00:00.000Z', 'tags': ['mineable'], 'max_supply': None, 'circulating_supply': 2100000000, 'total_supply': 2100000000, 'platform': None, 'cmc_rank': 39, 'last_updated': '2019-08-30T18:51:06.000Z', 'quote': {'INR': {'price': 5.758390464733332, 'volume_24h': 448163424.10210496, 'percent_change_1h': -1.9583, 'percent_change_24h': 3.2593, 'percent_change_7d': -8.1798, 'market_cap': 12092619975.939997, 'last_updated': '2019-08-30T18:51:02.000Z'}}}, {'id': 3662, 'name': 'HedgeTrade', 'symbol': 'HEDG', 'slug': 'hedgetrade', 'num_market_pairs': 6, 'date_added': '2019-01-03T00:00:00.000Z', 'tags': [], 'max_supply': None, 'circulating_supply': 178043799.9385, 'total_supply': 1000000000, 'platform': {'id': 1027, 'name': 'Ethereum', 'symbol': 'ETH', 'slug': 'ethereum', 'token_address': '0xF1290473E210b2108A85237fbCd7b6eb42Cc654F'}, 'cmc_rank': 40, 'last_updated': '2019-08-30T18:51:18.000Z', 'quote': {'INR': {'price': 64.84627673611219, 'volume_24h': 108133589.27630053, 'percent_change_1h': -0.5823, 'percent_change_24h': 0.1254, 'percent_change_7d': 12.4724, 'market_cap': 11545477521.960962, 'last_updated': '2019-08-30T18:51:02.000Z'}}}, {'id': 1808, 'name': 'OmiseGO', 'symbol': 'OMG', 'slug': 'omisego', 'num_market_pairs': 188, 'date_added': '2017-07-14T00:00:00.000Z', 'tags': [], 'max_supply': None, 'circulating_supply': 140245398.245133, 'total_supply': 140245398.245133, 'platform': {'id': 1027, 'name': 'Ethereum', 'symbol': 'ETH', 'slug': 'ethereum', 'token_address': '0xd26114cd6EE289AccF82350c8d8487fedB8A0C07'}, 'cmc_rank': 41, 'last_updated': '2019-08-30T18:51:07.000Z', 'quote': {'INR': {'price': 77.8837465785354, 'volume_24h': 2270197202.3322167, 'percent_change_1h': -0.0353, 'percent_change_24h': 1.7544, 'percent_change_7d': -13.0414, 'market_cap': 10922837055.729712, 'last_updated': '2019-08-30T18:51:02.000Z'}}}, {'id': 2577, 'name': 'Ravencoin', 'symbol': 'RVN', 'slug': 'ravencoin', 'num_market_pairs': 42, 'date_added': '2018-03-10T00:00:00.000Z', 'tags': ['mineable'], 'max_supply': 21000000000, 'circulating_supply': 4310495000, 'total_supply': 4310495000, 'platform': None, 'cmc_rank': 42, 'last_updated': '2019-08-30T18:51:10.000Z', 'quote': {'INR': {'price': 2.289377607244855, 'volume_24h': 532334494.84299356, 'percent_change_1h': -0.0578, 'percent_change_24h': 0.9454, 'percent_change_7d': -15.9823, 'market_cap': 9868350729.14091, 'last_updated': '2019-08-30T18:51:02.000Z'}}}, {'id': 1214, 'name': 'Lisk', 'symbol': 'LSK', 'slug': 'lisk', 'num_market_pairs': 57, 'date_added': '2016-04-06T00:00:00.000Z', 'tags': [], 'max_supply': None, 'circulating_supply': 119735471.197799, 'total_supply': 134831884, 'platform': None, 'cmc_rank': 43, 'last_updated': '2019-08-30T18:51:04.000Z', 'quote': {'INR': {'price': 78.79409796456041, 'volume_24h': 149862439.79840374, 'percent_change_1h': -0.5564, 'percent_change_24h': -2.1721, 'percent_change_7d': -11.3791, 'market_cap': 9434448447.392176, 'last_updated': '2019-08-30T18:51:02.000Z'}}}, {'id': 1567, 'name': 'Nano', 'symbol': 'NANO', 'slug': 'nano', 'num_market_pairs': 38, 'date_added': '2017-03-06T00:00:00.000Z', 'tags': [], 'max_supply': 133248297.197, 'circulating_supply': 133248297.197, 'total_supply': 133248297.197, 'platform': None, 'cmc_rank': 44, 'last_updated': '2019-08-30T18:51:05.000Z', 'quote': {'INR': {'price': 68.87870361121576, 'volume_24h': 200706799.04886657, 'percent_change_1h': 0.1123, 'percent_change_24h': 1.613, 'percent_change_7d': -7.2117, 'market_cap': 9177969969.331354, 'last_updated': '2019-08-30T18:51:02.000Z'}}}, {'id': 2087, 'name': 'KuCoin Shares', 'symbol': 'KCS', 'slug': 'kucoin-shares', 'num_market_pairs': 14, 'date_added': '2017-10-24T00:00:00.000Z', 'tags': [], 'max_supply': None, 'circulating_supply': 88165556, 'total_supply': 178165556, 'platform': {'id': 1027, 'name': 'Ethereum', 'symbol': 'ETH', 'slug': 'ethereum', 'token_address': '0x039b5649a59967e3e936d7471f9c3700100ee1ab'}, 'cmc_rank': 45, 'last_updated': '2019-08-30T18:51:07.000Z', 'quote': {'INR': {'price': 100.94294400468033, 'volume_24h': 1084660891.385092, 'percent_change_1h': 0.9259, 'percent_change_24h': -1.7734, 'percent_change_7d': -10.1448, 'market_cap': 8899690782.449509, 'last_updated': '2019-08-30T18:51:02.000Z'}}}, {'id': 2222, 'name': 'Bitcoin Diamond', 'symbol': 'BCD', 'slug': 'bitcoin-diamond', 'num_market_pairs': 26, 'date_added': '2017-11-24T00:00:00.000Z', 'tags': ['mineable'], 'max_supply': 210000000, 'circulating_supply': 186492897.953, 'total_supply': 189492897.953, 'platform': None, 'cmc_rank': 46, 'last_updated': '2019-08-30T18:51:07.000Z', 'quote': {'INR': {'price': 46.522667605924696, 'volume_24h': 200093142.79176638, 'percent_change_1h': 3.1207, 'percent_change_24h': 9.1163, 'percent_change_7d': -7.6104, 'market_cap': 8676147102.333054, 'last_updated': '2019-08-30T18:51:02.000Z'}}}, {'id': 4030, 'name': 'Algorand', 'symbol': 'ALGO', 'slug': 'algorand', 'num_market_pairs': 51, 'date_added': '2019-06-20T00:00:00.000Z', 'tags': ['mineable'], 'max_supply': None, 'circulating_supply': 279047584.831211, 'total_supply': 2810319427.83121, 'platform': None, 'cmc_rank': 47, 'last_updated': '2019-08-30T18:51:20.000Z', 'quote': {'INR': {'price': 30.112782096838817, 'volume_24h': 4651945319.862593, 'percent_change_1h': -0.4249, 'percent_change_24h': -1.3648, 'percent_change_7d': -24.9813, 'market_cap': 8402899116.6714, 'last_updated': '2019-08-30T18:51:02.000Z'}}}, {'id': 2416, 'name': 'THETA', 'symbol': 'THETA', 'slug': 'theta', 'num_market_pairs': 30, 'date_added': '2018-01-17T00:00:00.000Z', 'tags': [], 'max_supply': None, 'circulating_supply': 1000000000, 'total_supply': 1000000000, 'platform': None, 'cmc_rank': 48, 'last_updated': '2019-08-30T18:51:10.000Z', 'quote': {'INR': {'price': 8.33543350623833, 'volume_24h': 98368131.87734051, 'percent_change_1h': -0.2268, 'percent_change_24h': -1.4774, 'percent_change_7d': -8.8232, 'market_cap': 8335433506.238329, 'last_updated': '2019-08-30T18:51:02.000Z'}}}, {'id': 3116, 'name': 'Insight Chain', 'symbol': 'INB', 'slug': 'insight-chain', 'num_market_pairs': 3, 'date_added': '2018-08-08T00:00:00.000Z', 'tags': [], 'max_supply': None, 'circulating_supply': 328702689.082001, 'total_supply': 10000000000, 'platform': {'id': 1027, 'name': 'Ethereum', 'symbol': 'ETH', 'slug': 'ethereum', 'token_address': '0x17aa18a4b64a55abed7fa543f2ba4e91f2dce482'}, 'cmc_rank': 49, 'last_updated': '2019-08-30T18:51:14.000Z', 'quote': {'INR': {'price': 25.12203777622623, 'volume_24h': 777476780.0964154, 'percent_change_1h': -0.6815, 'percent_change_24h': 3.4938, 'percent_change_7d': 0.0208, 'market_cap': 8257681372.265173, 'last_updated': '2019-08-30T18:51:02.000Z'}}}, {'id': 1274, 'name': 'Waves', 'symbol': 'WAVES', 'slug': 'waves', 'num_market_pairs': 134, 'date_added': '2016-06-02T00:00:00.000Z', 'tags': [], 'max_supply': None, 'circulating_supply': 100000000, 'total_supply': 100000000, 'platform': None, 'cmc_rank': 50, 'last_updated': '2019-08-30T18:51:04.000Z', 'quote': {'INR': {'price': 80.71589280157701, 'volume_24h': 533783938.1933026, 'percent_change_1h': -0.3031, 'percent_change_24h': 0.2265, 'percent_change_7d': -13.9932, 'market_cap': 8071589280.1577015, 'last_updated': '2019-08-30T18:51:02.000Z'}}}, {'id': 3718, 'name': 'BitTorrent', 'symbol': 'BTT', 'slug': 'bittorrent', 'num_market_pairs': 110, 'date_added': '2019-01-31T00:00:00.000Z', 'tags': [], 'max_supply': None, 'circulating_supply': 212116500000, 'total_supply': 990000000000, 'platform': {'id': 1958, 'name': 'TRON', 'symbol': 'TRX', 'slug': 'tron', 'token_address': '1002000'}, 'cmc_rank': 51, 'last_updated': '2019-08-30T18:51:18.000Z', 'quote': {'INR': {'price': 0.03798458794412172, 'volume_24h': 2750000309.183952, 'percent_change_1h': -0.1408, 'percent_change_24h': 0.0991, 'percent_change_7d': -16.8174, 'market_cap': 8057157848.649294, 'last_updated': '2019-08-30T18:51:02.000Z'}}}, {'id': 2682, 'name': 'Holo', 'symbol': 'HOT', 'slug': 'holo', 'num_market_pairs': 53, 'date_added': '2018-04-29T00:00:00.000Z', 'tags': [], 'max_supply': None, 'circulating_supply': 133214575156, 'total_supply': 177619433541.141, 'platform': {'id': 1027, 'name': 'Ethereum', 'symbol': 'ETH', 'slug': 'ethereum', 'token_address': '0x6c6ee5e31d828de241282b9606c8e98ea48526e2'}, 'cmc_rank': 52, 'last_updated': '2019-08-30T18:51:12.000Z', 'quote': {'INR': {'price': 0.05958005518134385, 'volume_24h': 561513687.7825325, 'percent_change_1h': 0.4438, 'percent_change_24h': 2.9881, 'percent_change_7d': -2.1181, 'market_cap': 7936931738.753757, 'last_updated': '2019-08-30T18:51:02.000Z'}}}, {'id': 3218, 'name': 'Energi', 'symbol': 'NRG', 'slug': 'energi', 'num_market_pairs': 7, 'date_added': '2018-08-23T00:00:00.000Z', 'tags': ['mineable'], 'max_supply': None, 'circulating_supply': 20125179.9599914, 'total_supply': 20125179.9599914, 'platform': None, 'cmc_rank': 53, 'last_updated': '2019-08-30T18:51:17.000Z', 'quote': {'INR': {'price': 392.38220587660715, 'volume_24h': 45167673.47564299, 'percent_change_1h': -0.0011, 'percent_change_24h': 0.1975, 'percent_change_7d': -13.2896, 'market_cap': 7896762506.365114, 'last_updated': '2019-08-30T18:51:02.000Z'}}}, {'id': 2099, 'name': 'ICON', 'symbol': 'ICX', 'slug': 'icon', 'num_market_pairs': 58, 'date_added': '2017-10-27T00:00:00.000Z', 'tags': [], 'max_supply': None, 'circulating_supply': 491195431.576712, 'total_supply': 800460000, 'platform': None, 'cmc_rank': 54, 'last_updated': '2019-08-30T18:51:07.000Z', 'quote': {'INR': {'price': 15.158367605468783, 'volume_24h': 944170752.6640666, 'percent_change_1h': -1.7499, 'percent_change_24h': -3.8651, 'percent_change_7d': -11.7832, 'market_cap': 7445720917.966689, 'last_updated': '2019-08-30T18:51:02.000Z'}}}, {'id': 109, 'name': 'DigiByte', 'symbol': 'DGB', 'slug': 'digibyte', 'num_market_pairs': 72, 'date_added': '2014-02-06T00:00:00.000Z', 'tags': ['mineable'], 'max_supply': 21000000000, 'circulating_supply': 12207278533.1406, 'total_supply': 12207278533.1406, 'platform': None, 'cmc_rank': 55, 'last_updated': '2019-08-30T18:51:03.000Z', 'quote': {'INR': {'price': 0.5747997059956675, 'volume_24h': 235687633.1651571, 'percent_change_1h': -0.5042, 'percent_change_24h': -1.3638, 'percent_change_7d': -14.4632, 'market_cap': 7016740111.856441, 'last_updated': '2019-08-30T18:51:02.000Z'}}}, {'id': 2885, 'name': 'Egretia', 'symbol': 'EGT', 'slug': 'egretia', 'num_market_pairs': 25, 'date_added': '2018-07-02T00:00:00.000Z', 'tags': [], 'max_supply': None, 'circulating_supply': 4216854525.7543, 'total_supply': 8000000000, 'platform': {'id': 1027, 'name': 'Ethereum', 'symbol': 'ETH', 'slug': 'ethereum', 'token_address': '0x8e1b448ec7adfc7fa35fc2e885678bd323176e34'}, 'cmc_rank': 56, 'last_updated': '2019-08-30T18:51:13.000Z', 'quote': {'INR': {'price': 1.6597085663866302, 'volume_24h': 3252891797.578631, 'percent_change_1h': 0.2437, 'percent_change_24h': 1.4171, 'percent_change_7d': 9.9881, 'market_cap': 6998749579.600642, 'last_updated': '2019-08-30T18:51:02.000Z'}}}, {'id': 1896, 'name': '0x', 'symbol': 'ZRX', 'slug': '0x', 'num_market_pairs': 168, 'date_added': '2017-08-16T00:00:00.000Z', 'tags': [], 'max_supply': None, 'circulating_supply': 600475853.405126, 'total_supply': 1000000000, 'platform': {'id': 1027, 'name': 'Ethereum', 'symbol': 'ETH', 'slug': 'ethereum', 'token_address': '0xe41d2489571d322189246dafa5ebde1f4699f498'}, 'cmc_rank': 57, 'last_updated': '2019-08-30T18:51:07.000Z', 'quote': {'INR': {'price': 11.348556034725899, 'volume_24h': 780791417.0940496, 'percent_change_1h': -0.1385, 'percent_change_24h': 2.7574, 'percent_change_7d': -14.0202, 'market_cap': 6814533869.867927, 'last_updated': '2019-08-30T18:51:02.000Z'}}}, {'id': 463, 'name': 'BitShares', 'symbol': 'BTS', 'slug': 'bitshares', 'num_market_pairs': 80, 'date_added': '2014-07-21T00:00:00.000Z', 'tags': [], 'max_supply': 3600570502, 'circulating_supply': 2741400000, 'total_supply': 2741400000, 'platform': None, 'cmc_rank': 58, 'last_updated': '2019-08-30T18:51:04.000Z', 'quote': {'INR': {'price': 2.413020084455744, 'volume_24h': 276335921.4001594, 'percent_change_1h': -1.6889, 'percent_change_24h': -3.7979, 'percent_change_7d': -17.8378, 'market_cap': 6615053259.526977, 'last_updated': '2019-08-30T18:51:02.000Z'}}}, {'id': 1903, 'name': 'HyperCash', 'symbol': 'HC', 'slug': 'hypercash', 'num_market_pairs': 27, 'date_added': '2017-08-20T00:00:00.000Z', 'tags': ['mineable'], 'max_supply': 84000000, 'circulating_supply': 43529780.865052, 'total_supply': 43529780.865052, 'platform': None, 'cmc_rank': 59, 'last_updated': '2019-08-30T18:51:08.000Z', 'quote': {'INR': {'price': 151.4195047413921, 'volume_24h': 244983059.2163901, 'percent_change_1h': -0.6339, 'percent_change_24h': 0.3896, 'percent_change_7d': -20.9266, 'market_cap': 6591257860.0875, 'last_updated': '2019-08-30T18:51:02.000Z'}}}, {'id': 2603, 'name': 'Pundi X', 'symbol': 'NPXS', 'slug': 'pundi-x', 'num_market_pairs': 69, 'date_added': '2018-03-22T00:00:00.000Z', 'tags': [], 'max_supply': None, 'circulating_supply': 235371468515.377, 'total_supply': 261834927332.63, 'platform': {'id': 1027, 'name': 'Ethereum', 'symbol': 'ETH', 'slug': 'ethereum', 'token_address': '0xa15c7ebe1f07caf6bff097d8a589fb8ac49ae5b3'}, 'cmc_rank': 60, 'last_updated': '2019-08-30T18:51:11.000Z', 'quote': {'INR': {'price': 0.027880219110752637, 'volume_24h': 121743319.29804903, 'percent_change_1h': 0.5, 'percent_change_24h': -1.6478, 'percent_change_7d': -11.6121, 'market_cap': 6562208114.628326, 'last_updated': '2019-08-30T18:51:02.000Z'}}}, {'id': 1104, 'name': 'Augur', 'symbol': 'REP', 'slug': 'augur', 'num_market_pairs': 68, 'date_added': '2015-10-27T00:00:00.000Z', 'tags': [], 'max_supply': None, 'circulating_supply': 11000000, 'total_supply': 11000000, 'platform': {'id': 1027, 'name': 'Ethereum', 'symbol': 'ETH', 'slug': 'ethereum', 'token_address': '0x1985365e9f78359a9b6ad760e32412f4a445e862'}, 'cmc_rank': 61, 'last_updated': '2019-08-30T18:51:03.000Z', 'quote': {'INR': {'price': 596.116785925133, 'volume_24h': 429190780.71149784, 'percent_change_1h': 1.0509, 'percent_change_24h': 1.4343, 'percent_change_7d': -16.928, 'market_cap': 6557284645.176462, 'last_updated': '2019-08-30T18:51:02.000Z'}}}, {'id': 2874, 'name': 'Aurora', 'symbol': 'AOA', 'slug': 'aurora', 'num_market_pairs': 13, 'date_added': '2018-06-26T00:00:00.000Z', 'tags': [], 'max_supply': None, 'circulating_supply': 6542330148.20859, 'total_supply': 10000000000, 'platform': {'id': 1027, 'name': 'Ethereum', 'symbol': 'ETH', 'slug': 'ethereum', 'token_address': '0x9ab165d795019b6d8b3e971dda91071421305e5a'}, 'cmc_rank': 62, 'last_updated': '2019-08-30T18:51:13.000Z', 'quote': {'INR': {'price': 0.9905560924682068, 'volume_24h': 263069817.37327296, 'percent_change_1h': -0.1131, 'percent_change_24h': 16.8792, 'percent_change_7d': -15.4847, 'market_cap': 6480544987.246444, 'last_updated': '2019-08-30T18:51:02.000Z'}}}, {'id': 2405, 'name': 'IOST', 'symbol': 'IOST', 'slug': 'iostoken', 'num_market_pairs': 74, 'date_added': '2018-01-16T00:00:00.000Z', 'tags': [], 'max_supply': None, 'circulating_supply': 12013965608.8475, 'total_supply': 21000000000, 'platform': None, 'cmc_rank': 63, 'last_updated': '2019-08-30T18:51:10.000Z', 'quote': {'INR': {'price': 0.5273847836416363, 'volume_24h': 1697980526.9513016, 'percent_change_1h': -0.2414, 'percent_change_24h': 0.5945, 'percent_change_7d': -15.2514, 'market_cap': 6335982653.300098, 'last_updated': '2019-08-30T18:51:02.000Z'}}}, {'id': 213, 'name': 'MonaCoin', 'symbol': 'MONA', 'slug': 'monacoin', 'num_market_pairs': 21, 'date_added': '2014-03-20T00:00:00.000Z', 'tags': ['mineable'], 'max_supply': None, 'circulating_supply': 65729674.8711679, 'total_supply': 65729674.8711679, 'platform': None, 'cmc_rank': 64, 'last_updated': '2019-08-30T18:51:03.000Z', 'quote': {'INR': {'price': 88.63200747288992, 'volume_24h': 79493686.73530872, 'percent_change_1h': -0.3699, 'percent_change_24h': -2.2552, 'percent_change_7d': -15.9565, 'market_cap': 5825753034.371979, 'last_updated': '2019-08-30T18:51:02.000Z'}}}, {'id': 3829, 'name': 'Nash Exchange', 'symbol': 'NEX', 'slug': 'nash-exchange', 'num_market_pairs': 6, 'date_added': '2019-04-01T00:00:00.000Z', 'tags': [], 'max_supply': None, 'circulating_supply': 36196678, 'total_supply': 104116729.5826, 'platform': {'id': 1376, 'name': 'NEO', 'symbol': 'NEO', 'slug': 'neo', 'token_address': '3a4acd3647086e7c44398aac0349802e6a171129'}, 'cmc_rank': 65, 'last_updated': '2019-08-30T18:51:19.000Z', 'quote': {'INR': {'price': 159.98789321792694, 'volume_24h': 225712925.0918839, 'percent_change_1h': -0.0611, 'percent_change_24h': -2.9228, 'percent_change_7d': -11.7388, 'market_cap': 5791030254.707685, 'last_updated': '2019-08-30T18:51:02.000Z'}}}, {'id': 1521, 'name': 'Komodo', 'symbol': 'KMD', 'slug': 'komodo', 'num_market_pairs': 22, 'date_added': '2017-02-05T00:00:00.000Z', 'tags': ['mineable'], 'max_supply': 200000000, 'circulating_supply': 115699436.73025, 'total_supply': 115699436.73025, 'platform': None, 'cmc_rank': 66, 'last_updated': '2019-08-30T18:51:06.000Z', 'quote': {'INR': {'price': 48.67647638929435, 'volume_24h': 111311567.1301317, 'percent_change_1h': -0.477, 'percent_change_24h': -0.7215, 'percent_change_7d': -20.348, 'market_cap': 5631840900.254669, 'last_updated': '2019-08-30T18:51:02.000Z'}}}, {'id': 2308, 'name': 'Dai', 'symbol': 'DAI', 'slug': 'dai', 'num_market_pairs': 103, 'date_added': '2017-12-24T00:00:00.000Z', 'tags': [], 'max_supply': None, 'circulating_supply': 76880052.9470153, 'total_supply': 76880052.9470153, 'platform': {'id': 1027, 'name': 'Ethereum', 'symbol': 'ETH', 'slug': 'ethereum', 'token_address': '0x89d24a6b4ccb1b6faa2625fe562bdd9a23260359'}, 'cmc_rank': 67, 'last_updated': '2019-08-30T18:51:08.000Z', 'quote': {'INR': {'price': 72.246100057184, 'volume_24h': 1408902354.976954, 'percent_change_1h': 0.3719, 'percent_change_24h': -0.0103, 'percent_change_7d': 0.2744, 'market_cap': 5554283997.611671, 'last_updated': '2019-08-30T18:51:02.000Z'}}}, {'id': 3155, 'name': 'Quant', 'symbol': 'QNT', 'slug': 'quant', 'num_market_pairs': 16, 'date_added': '2018-08-10T00:00:00.000Z', 'tags': [], 'max_supply': None, 'circulating_supply': 12072738, 'total_supply': 14612493.0808262, 'platform': {'id': 1027, 'name': 'Ethereum', 'symbol': 'ETH', 'slug': 'ethereum', 'token_address': '0x4a220e6096b25eadb88358cb44068a3248254675'}, 'cmc_rank': 68, 'last_updated': '2019-08-30T18:51:17.000Z', 'quote': {'INR': {'price': 458.23934923270366, 'volume_24h': 128101607.0062994, 'percent_change_1h': -0.2489, 'percent_change_24h': 0.1186, 'percent_change_7d': -7.3558, 'market_cap': 5532203604.576932, 'last_updated': '2019-08-30T18:51:02.000Z'}}}, {'id': 291, 'name': 'MaidSafeCoin', 'symbol': 'MAID', 'slug': 'maidsafecoin', 'num_market_pairs': 10, 'date_added': '2014-04-28T00:00:00.000Z', 'tags': [], 'max_supply': None, 'circulating_supply': 452552412, 'total_supply': 452552412, 'platform': {'id': 83, 'name': 'Omni', 'symbol': 'OMNI', 'slug': 'omni', 'token_address': '3'}, 'cmc_rank': 69, 'last_updated': '2019-08-30T18:51:02.000Z', 'quote': {'INR': {'price': 12.181003454051826, 'volume_24h': 20559116.368619755, 'percent_change_1h': -0.4567, 'percent_change_24h': -1.9494, 'percent_change_7d': 1.9532, 'market_cap': 5512542493.711485, 'last_updated': '2019-08-30T18:51:02.000Z'}}}, {'id': 1042, 'name': 'Siacoin', 'symbol': 'SC', 'slug': 'siacoin', 'num_market_pairs': 31, 'date_added': '2015-08-26T00:00:00.000Z', 'tags': ['mineable'], 'max_supply': None, 'circulating_supply': 41817047634, 'total_supply': 41817047634, 'platform': None, 'cmc_rank': 70, 'last_updated': '2019-08-30T18:51:04.000Z', 'quote': {'INR': {'price': 0.12805266920142422, 'volume_24h': 86949632.06085299, 'percent_change_1h': 0.4683, 'percent_change_24h': 0.198, 'percent_change_7d': -13.29, 'market_cap': 5354784567.656801, 'last_updated': '2019-08-30T18:51:02.000Z'}}}, {'id': 693, 'name': 'Verge', 'symbol': 'XVG', 'slug': 'verge', 'num_market_pairs': 58, 'date_added': '2014-10-25T00:00:00.000Z', 'tags': ['mineable'], 'max_supply': 16555000000, 'circulating_supply': 15909487059.1206, 'total_supply': 15909487059.1206, 'platform': None, 'cmc_rank': 71, 'last_updated': '2019-08-30T18:51:03.000Z', 'quote': {'INR': {'price': 0.3235474968238163, 'volume_24h': 63505153.27749771, 'percent_change_1h': 0.052, 'percent_change_24h': 1.5262, 'percent_change_7d': -13.4068, 'market_cap': 5147474713.729368, 'last_updated': '2019-08-30T18:51:02.000Z'}}}, {'id': 3701, 'name': 'RIF Token', 'symbol': 'RIF', 'slug': 'rif-token', 'num_market_pairs': 11, 'date_added': '2019-01-16T00:00:00.000Z', 'tags': [], 'max_supply': None, 'circulating_supply': 477980956.857199, 'total_supply': 1000000000, 'platform': {'id': 3626, 'name': 'RSK Smart Bitcoin', 'symbol': 'RBTC', 'slug': 'rsk-smart-bitcoin', 'token_address': '0x2acc95758f8b5f583470ba265eb685a8f45fc9d5'}, 'cmc_rank': 72, 'last_updated': '2019-08-30T18:51:19.000Z', 'quote': {'INR': {'price': 9.537689422482794, 'volume_24h': 204381261.637363, 'percent_change_1h': -0.4021, 'percent_change_24h': 3.4318, 'percent_change_7d': -16.2666, 'market_cap': 4558833916.365111, 'last_updated': '2019-08-30T18:51:02.000Z'}}}, {'id': 2469, 'name': 'Zilliqa', 'symbol': 'ZIL', 'slug': 'zilliqa', 'num_market_pairs': 107, 'date_added': '2018-01-25T00:00:00.000Z', 'tags': ['mineable'], 'max_supply': None, 'circulating_supply': 8687360058.0875, 'total_supply': 12533042434.6081, 'platform': None, 'cmc_rank': 73, 'last_updated': '2019-08-30T18:51:11.000Z', 'quote': {'INR': {'price': 0.4988068876905379, 'volume_24h': 477844576.5450735, 'percent_change_1h': -0.5646, 'percent_change_24h': -1.5449, 'percent_change_7d': -9.2337, 'market_cap': 4333315032.821716, 'last_updated': '2019-08-30T18:51:02.000Z'}}}, {'id': 1700, 'name': 'Aeternity', 'symbol': 'AE', 'slug': 'aeternity', 'num_market_pairs': 53, 'date_added': '2017-06-01T00:00:00.000Z', 'tags': ['mineable'], 'max_supply': None, 'circulating_supply': 280993092.5, 'total_supply': 326814036.49932, 'platform': None, 'cmc_rank': 74, 'last_updated': '2019-08-30T18:51:05.000Z', 'quote': {'INR': {'price': 15.341030893506332, 'volume_24h': 912979798.7157705, 'percent_change_1h': -0.5514, 'percent_change_24h': -2.6355, 'percent_change_7d': -10.4831, 'market_cap': 4310723712.904383, 'last_updated': '2019-08-30T18:51:02.000Z'}}}, {'id': 1455, 'name': 'Golem', 'symbol': 'GNT', 'slug': 'golem-network-tokens', 'num_market_pairs': 90, 'date_added': '2016-11-18T00:00:00.000Z', 'tags': [], 'max_supply': None, 'circulating_supply': 964450000, 'total_supply': 1000000000, 'platform': {'id': 1027, 'name': 'Ethereum', 'symbol': 'ETH', 'slug': 'ethereum', 'token_address': '0xa74476443119A942dE498590Fe1f2454d7D4aC0d'}, 'cmc_rank': 75, 'last_updated': '2019-08-30T18:51:04.000Z', 'quote': {'INR': {'price': 4.39853071463875, 'volume_24h': 330947538.6934534, 'percent_change_1h': 0.4215, 'percent_change_24h': -0.7156, 'percent_change_7d': 5.9295, 'market_cap': 4242162947.733342, 'last_updated': '2019-08-30T18:51:02.000Z'}}}, {'id': 1703, 'name': 'Metaverse ETP', 'symbol': 'ETP', 'slug': 'metaverse', 'num_market_pairs': 19, 'date_added': '2017-06-05T00:00:00.000Z', 'tags': ['mineable'], 'max_supply': 100000000, 'circulating_supply': 73177588.5234364, 'total_supply': 76451443.6881364, 'platform': None, 'cmc_rank': 76, 'last_updated': '2019-08-30T18:51:05.000Z', 'quote': {'INR': {'price': 56.515091927767955, 'volume_24h': 200120671.55792767, 'percent_change_1h': 0.0305, 'percent_change_24h': 1.2135, 'percent_change_7d': -9.8777, 'market_cap': 4135638142.4543853, 'last_updated': '2019-08-30T18:51:02.000Z'}}}, {'id': 1230, 'name': 'Steem', 'symbol': 'STEEM', 'slug': 'steem', 'num_market_pairs': 32, 'date_added': '2016-04-18T00:00:00.000Z', 'tags': [], 'max_supply': None, 'circulating_supply': 343094164.525, 'total_supply': 360068258.525, 'platform': None, 'cmc_rank': 77, 'last_updated': '2019-08-30T18:51:04.000Z', 'quote': {'INR': {'price': 11.733979323637298, 'volume_24h': 29078789.079448793, 'percent_change_1h': -0.3341, 'percent_change_24h': -0.0194, 'percent_change_7d': -9.0348, 'market_cap': 4025859832.5969634, 'last_updated': '2019-08-30T18:51:02.000Z'}}}, {'id': 1759, 'name': 'Status', 'symbol': 'SNT', 'slug': 'status', 'num_market_pairs': 85, 'date_added': '2017-06-28T00:00:00.000Z', 'tags': [], 'max_supply': None, 'circulating_supply': 3470483788, 'total_supply': 6804870174, 'platform': {'id': 1027, 'name': 'Ethereum', 'symbol': 'ETH', 'slug': 'ethereum', 'token_address': '0x744d70fdbe2ba4cf95131626614a1763df805b9e'}, 'cmc_rank': 78, 'last_updated': '2019-08-30T18:51:06.000Z', 'quote': {'INR': {'price': 1.1142275250265397, 'volume_24h': 1340259608.027354, 'percent_change_1h': -0.1559, 'percent_change_24h': 0.3871, 'percent_change_7d': -17.5474, 'market_cap': 3866908561.74797, 'last_updated': '2019-08-30T18:51:02.000Z'}}}, {'id': 1320, 'name': 'Ardor', 'symbol': 'ARDR', 'slug': 'ardor', 'num_market_pairs': 19, 'date_added': '2016-07-23T00:00:00.000Z', 'tags': [], 'max_supply': 998999495, 'circulating_supply': 998999495, 'total_supply': 998999495, 'platform': None, 'cmc_rank': 79, 'last_updated': '2019-08-30T18:51:05.000Z', 'quote': {'INR': {'price': 3.8231778347613385, 'volume_24h': 56491789.24200805, 'percent_change_1h': 0.0786, 'percent_change_24h': 0.5439, 'percent_change_7d': -11.1895, 'market_cap': 3819352726.221771, 'last_updated': '2019-08-30T18:51:02.000Z'}}}, {'id': 2539, 'name': 'Ren', 'symbol': 'REN', 'slug': 'ren', 'num_market_pairs': 9, 'date_added': '2018-02-21T00:00:00.000Z', 'tags': [], 'max_supply': None, 'circulating_supply': 795594931.023916, 'total_supply': 1000000000, 'platform': {'id': 1027, 'name': 'Ethereum', 'symbol': 'ETH', 'slug': 'ethereum', 'token_address': '0x408e41876cccdc0f92210600ef50372656052a38'}, 'cmc_rank': 80, 'last_updated': '2019-08-30T18:51:11.000Z', 'quote': {'INR': {'price': 4.668189878897013, 'volume_24h': 333375770.32207227, 'percent_change_1h': -0.6088, 'percent_change_24h': 2.4979, 'percent_change_7d': -22.7586, 'market_cap': 3713988204.707612, 'last_updated': '2019-08-30T18:51:02.000Z'}}}, {'id': 2840, 'name': 'QuarkChain', 'symbol': 'QKC', 'slug': 'quarkchain', 'num_market_pairs': 34, 'date_added': '2018-06-04T00:00:00.000Z', 'tags': [], 'max_supply': None, 'circulating_supply': 3915563718.35544, 'total_supply': 10000000000, 'platform': {'id': 1027, 'name': 'Ethereum', 'symbol': 'ETH', 'slug': 'ethereum', 'token_address': '0xea26c4ac16d4a5a106820bc8aee85fd0b7b2b664'}, 'cmc_rank': 81, 'last_updated': '2019-08-30T18:51:12.000Z', 'quote': {'INR': {'price': 0.9390475485083357, 'volume_24h': 331392455.6522049, 'percent_change_1h': -2.0262, 'percent_change_24h': 8.6567, 'percent_change_7d': -3.9766, 'market_cap': 3676900510.7498593, 'last_updated': '2019-08-30T18:51:02.000Z'}}}, {'id': 1776, 'name': 'Crypto.com', 'symbol': 'MCO', 'slug': 'crypto-com', 'num_market_pairs': 57, 'date_added': '2017-07-03T00:00:00.000Z', 'tags': [], 'max_supply': None, 'circulating_supply': 15793831.0949625, 'total_supply': 31587682.3632061, 'platform': {'id': 1027, 'name': 'Ethereum', 'symbol': 'ETH', 'slug': 'ethereum', 'token_address': '0xb63b606ac810a52cca15e44bb630fd42d8d1d83d'}, 'cmc_rank': 82, 'last_updated': '2019-08-30T18:51:05.000Z', 'quote': {'INR': {'price': 231.17740747488332, 'volume_24h': 251439711.2840313, 'percent_change_1h': -0.5303, 'percent_change_24h': 1.6667, 'percent_change_7d': -8.3321, 'market_cap': 3651176926.6296287, 'last_updated': '2019-08-30T18:51:02.000Z'}}}, {'id': 1750, 'name': 'GXChain', 'symbol': 'GXC', 'slug': 'gxchain', 'num_market_pairs': 21, 'date_added': '2017-06-25T00:00:00.000Z', 'tags': [], 'max_supply': 100000000, 'circulating_supply': 65000000, 'total_supply': 99843334.45131, 'platform': None, 'cmc_rank': 83, 'last_updated': '2019-08-30T18:51:05.000Z', 'quote': {'INR': {'price': 55.96546082093196, 'volume_24h': 336674119.1512133, 'percent_change_1h': -0.4636, 'percent_change_24h': 9.7614, 'percent_change_7d': -19.8228, 'market_cap': 3637754953.360577, 'last_updated': '2019-08-30T18:51:02.000Z'}}}, {'id': 3437, 'name': 'ABBC Coin', 'symbol': 'ABBC', 'slug': 'abbc-coin', 'num_market_pairs': 32, 'date_added': '2018-10-12T00:00:00.000Z', 'tags': ['mineable'], 'max_supply': None, 'circulating_supply': 554307761.969837, 'total_supply': 1002169590.0106, 'platform': None, 'cmc_rank': 84, 'last_updated': '2019-08-30T18:51:16.000Z', 'quote': {'INR': {'price': 6.337321554481411, 'volume_24h': 2729364639.566648, 'percent_change_1h': 0.9192, 'percent_change_24h': 7.8229, 'percent_change_7d': -5.3054, 'market_cap': 3512826527.747799, 'last_updated': '2019-08-30T18:51:02.000Z'}}}, {'id': 2130, 'name': 'Enjin Coin', 'symbol': 'ENJ', 'slug': 'enjin-coin', 'num_market_pairs': 50, 'date_added': '2017-11-01T00:00:00.000Z', 'tags': [], 'max_supply': None, 'circulating_supply': 776278713.064264, 'total_supply': 1000000000, 'platform': {'id': 1027, 'name': 'Ethereum', 'symbol': 'ETH', 'slug': 'ethereum', 'token_address': '0xf629cbd94d3791c9250152bd8dfbdf380e2a3b9c'}, 'cmc_rank': 85, 'last_updated': '2019-08-30T18:51:08.000Z', 'quote': {'INR': {'price': 4.514955510000678, 'volume_24h': 252206786.79419726, 'percent_change_1h': 0.2775, 'percent_change_24h': -1.6354, 'percent_change_7d': -11.4029, 'market_cap': 3504863852.8457346, 'last_updated': '2019-08-30T18:51:02.000Z'}}}, {'id': 1925, 'name': 'Waltonchain', 'symbol': 'WTC', 'slug': 'waltonchain', 'num_market_pairs': 39, 'date_added': '2017-08-27T00:00:00.000Z', 'tags': [], 'max_supply': 100000000, 'circulating_supply': 42252004.4106683, 'total_supply': 70000000, 'platform': {'id': 1027, 'name': 'Ethereum', 'symbol': 'ETH', 'slug': 'ethereum', 'token_address': '0xb7cb1c96db6b22b0d3d9536e0108d062bd488f74'}, 'cmc_rank': 86, 'last_updated': '2019-08-30T18:51:08.000Z', 'quote': {'INR': {'price': 82.79601652264861, 'volume_24h': 192328001.94875875, 'percent_change_1h': -0.1343, 'percent_change_24h': 0.7185, 'percent_change_7d': -21.1271, 'market_cap': 3498297655.300715, 'last_updated': '2019-08-30T18:51:02.000Z'}}}, {'id': 1414, 'name': 'Zcoin', 'symbol': 'XZC', 'slug': 'zcoin', 'num_market_pairs': 36, 'date_added': '2016-10-06T00:00:00.000Z', 'tags': ['mineable'], 'max_supply': 21400000, 'circulating_supply': 8263368.32977799, 'total_supply': 21400000, 'platform': None, 'cmc_rank': 87, 'last_updated': '2019-08-30T18:51:05.000Z', 'quote': {'INR': {'price': 412.9469369654715, 'volume_24h': 227249387.44792378, 'percent_change_1h': -0.2868, 'percent_change_24h': -2.701, 'percent_change_7d': -17.6899, 'market_cap': 3412332640.799305, 'last_updated': '2019-08-30T18:51:02.000Z'}}}, {'id': 2586, 'name': 'Synthetix Network Token', 'symbol': 'SNX', 'slug': 'synthetix-network-token', 'num_market_pairs': 9, 'date_added': '2018-03-14T00:00:00.000Z', 'tags': [], 'max_supply': None, 'circulating_supply': 127447604.753649, 'total_supply': 136057692.307692, 'platform': {'id': 1027, 'name': 'Ethereum', 'symbol': 'ETH', 'slug': 'ethereum', 'token_address': '0xc011a72400e58ecd99ee497cf89e3775d4bd732f'}, 'cmc_rank': 88, 'last_updated': '2019-08-30T18:51:11.000Z', 'quote': {'INR': {'price': 26.634923519057573, 'volume_24h': 8168338.272799341, 'percent_change_1h': -0.1144, 'percent_change_24h': 2.9542, 'percent_change_7d': 28.8782, 'market_cap': 3394557205.300519, 'last_updated': '2019-08-30T18:51:02.000Z'}}}, {'id': 3724, 'name': 'SOLVE', 'symbol': 'SOLVE', 'slug': 'solve', 'num_market_pairs': 7, 'date_added': '2019-02-04T00:00:00.000Z', 'tags': [], 'max_supply': 1000000000, 'circulating_supply': 327244057.659315, 'total_supply': 1000000000, 'platform': {'id': 1027, 'name': 'Ethereum', 'symbol': 'ETH', 'slug': 'ethereum', 'token_address': '0x446c9033e7516d820cc9a2ce2d0b7328b579406f'}, 'cmc_rank': 89, 'last_updated': '2019-08-30T18:51:18.000Z', 'quote': {'INR': {'price': 9.137586485491681, 'volume_24h': 69131996.63159902, 'percent_change_1h': 0.0884, 'percent_change_24h': 0.0308, 'percent_change_7d': 10.0928, 'market_cap': 2990220878.7252173, 'last_updated': '2019-08-30T18:51:02.000Z'}}}, {'id': 2300, 'name': 'WAX', 'symbol': 'WAX', 'slug': 'wax', 'num_market_pairs': 31, 'date_added': '2017-12-21T00:00:00.000Z', 'tags': [], 'max_supply': None, 'circulating_supply': 942821661.702148, 'total_supply': 1850000000, 'platform': {'id': 1027, 'name': 'Ethereum', 'symbol': 'ETH', 'slug': 'ethereum', 'token_address': '0x39Bb259F66E1C59d5ABEF88375979b4D20D98022'}, 'cmc_rank': 90, 'last_updated': '2019-08-30T18:51:08.000Z', 'quote': {'INR': {'price': 3.1684135769530792, 'volume_24h': 48914921.886837795, 'percent_change_1h': -0.3549, 'percent_change_24h': 0.3838, 'percent_change_7d': -17.1362, 'market_cap': 2987248953.5825486, 'last_updated': '2019-08-30T18:51:02.000Z'}}}, {'id': 3702, 'name': 'Beam', 'symbol': 'BEAM', 'slug': 'beam', 'num_market_pairs': 30, 'date_added': '2019-01-17T00:00:00.000Z', 'tags': ['mineable'], 'max_supply': 262800000, 'circulating_supply': 33570800, 'total_supply': 33570800, 'platform': None, 'cmc_rank': 91, 'last_updated': '2019-08-30T18:51:18.000Z', 'quote': {'INR': {'price': 86.80346541948482, 'volume_24h': 4289264863.8536763, 'percent_change_1h': -0.1347, 'percent_change_24h': 2.3997, 'percent_change_7d': -19.5716, 'market_cap': 2914061776.9044414, 'last_updated': '2019-08-30T18:51:02.000Z'}}}, {'id': 2606, 'name': 'Wanchain', 'symbol': 'WAN', 'slug': 'wanchain', 'num_market_pairs': 16, 'date_added': '2018-03-23T00:00:00.000Z', 'tags': [], 'max_supply': None, 'circulating_supply': 106152492.636, 'total_supply': 210000000, 'platform': None, 'cmc_rank': 92, 'last_updated': '2019-08-30T18:51:10.000Z', 'quote': {'INR': {'price': 27.39547789675079, 'volume_24h': 1353836244.1498961, 'percent_change_1h': 1.3839, 'percent_change_24h': 21.4816, 'percent_change_7d': 3.9278, 'market_cap': 2908098265.694539, 'last_updated': '2019-08-30T18:51:02.000Z'}}}, {'id': 1343, 'name': 'Stratis', 'symbol': 'STRAT', 'slug': 'stratis', 'num_market_pairs': 20, 'date_added': '2016-08-12T00:00:00.000Z', 'tags': [], 'max_supply': None, 'circulating_supply': 99466271.1700453, 'total_supply': 99466271.1700453, 'platform': None, 'cmc_rank': 93, 'last_updated': '2019-08-30T18:51:04.000Z', 'quote': {'INR': {'price': 28.19034496646328, 'volume_24h': 77265166.11539844, 'percent_change_1h': -0.0475, 'percent_change_24h': -0.5407, 'percent_change_7d': -4.4159, 'market_cap': 2803988496.811358, 'last_updated': '2019-08-30T18:51:02.000Z'}}}, {'id': 2299, 'name': 'aelf', 'symbol': 'ELF', 'slug': 'aelf', 'num_market_pairs': 68, 'date_added': '2017-12-21T00:00:00.000Z', 'tags': [], 'max_supply': 1000000000, 'circulating_supply': 499779999.986466, 'total_supply': 879999999.986466, 'platform': {'id': 1027, 'name': 'Ethereum', 'symbol': 'ETH', 'slug': 'ethereum', 'token_address': '0xbf2179859fc6d5bee9bf9158632dc51678a4100e'}, 'cmc_rank': 94, 'last_updated': '2019-08-30T18:51:08.000Z', 'quote': {'INR': {'price': 5.540922473624719, 'volume_24h': 669620325.2996134, 'percent_change_1h': 0.2389, 'percent_change_24h': 2.9855, 'percent_change_7d': -9.9458, 'market_cap': 2769242233.793171, 'last_updated': '2019-08-30T18:51:02.000Z'}}}, {'id': 2492, 'name': 'Elastos', 'symbol': 'ELA', 'slug': 'elastos', 'num_market_pairs': 17, 'date_added': '2018-01-31T00:00:00.000Z', 'tags': ['mineable'], 'max_supply': None, 'circulating_supply': 15963222.0845989, 'total_supply': 34834056.9126358, 'platform': None, 'cmc_rank': 95, 'last_updated': '2019-08-30T18:51:10.000Z', 'quote': {'INR': {'price': 171.17241404962508, 'volume_24h': 176742913.9537171, 'percent_change_1h': -0.5658, 'percent_change_24h': -0.0583, 'percent_change_7d': -13.6853, 'market_cap': 2732463260.231082, 'last_updated': '2019-08-30T18:51:02.000Z'}}}, {'id': 3709, 'name': 'Grin', 'symbol': 'GRIN', 'slug': 'grin', 'num_market_pairs': 53, 'date_added': '2019-01-27T00:00:00.000Z', 'tags': ['mineable'], 'max_supply': None, 'circulating_supply': 19545960, 'total_supply': 19545960, 'platform': None, 'cmc_rank': 96, 'last_updated': '2019-08-30T18:51:18.000Z', 'quote': {'INR': {'price': 138.5126635280631, 'volume_24h': 2715839192.1176615, 'percent_change_1h': -0.034, 'percent_change_24h': 2.7933, 'percent_change_7d': -25.423, 'market_cap': 2707362980.81298, 'last_updated': '2019-08-30T18:51:02.000Z'}}}, {'id': 2694, 'name': 'Nexo', 'symbol': 'NEXO', 'slug': 'nexo', 'num_market_pairs': 22, 'date_added': '2018-05-01T00:00:00.000Z', 'tags': [], 'max_supply': None, 'circulating_supply': 560000011, 'total_supply': 1000000000, 'platform': {'id': 1027, 'name': 'Ethereum', 'symbol': 'ETH', 'slug': 'ethereum', 'token_address': '0xb62132e35a6c13ee1ee0f84dc5d40bad8d815206'}, 'cmc_rank': 97, 'last_updated': '2019-08-30T18:51:12.000Z', 'quote': {'INR': {'price': 4.825150856919, 'volume_24h': 523422133.5831224, 'percent_change_1h': 0.1159, 'percent_change_24h': -1.6772, 'percent_change_7d': -11.921, 'market_cap': 2702084532.951299, 'last_updated': '2019-08-30T18:51:02.000Z'}}}, {'id': 2900, 'name': 'Project Pai', 'symbol': 'PAI', 'slug': 'project-pai', 'num_market_pairs': 17, 'date_added': '2018-07-05T00:00:00.000Z', 'tags': [], 'max_supply': None, 'circulating_supply': 1451234497, 'total_supply': 1618050000, 'platform': None, 'cmc_rank': 98, 'last_updated': '2019-08-30T18:51:14.000Z', 'quote': {'INR': {'price': 1.7689166404827597, 'volume_24h': 46840854.68283236, 'percent_change_1h': 0.2273, 'percent_change_24h': 1.6406, 'percent_change_7d': -11.5575, 'market_cap': 2567112850.9859276, 'last_updated': '2019-08-30T18:51:02.000Z'}}}, {'id': 2137, 'name': 'Electroneum', 'symbol': 'ETN', 'slug': 'electroneum', 'num_market_pairs': 20, 'date_added': '2017-11-02T00:00:00.000Z', 'tags': ['mineable'], 'max_supply': 21000000000, 'circulating_supply': 9792945990.93, 'total_supply': 9792945990.93, 'platform': None, 'cmc_rank': 99, 'last_updated': '2019-08-30T18:51:08.000Z', 'quote': {'INR': {'price': 0.25359257323333306, 'volume_24h': 20371261.06352028, 'percent_change_1h': -0.4299, 'percent_change_24h': 1.6306, 'percent_change_7d': -9.2715, 'market_cap': 2483418373.3749914, 'last_updated': '2019-08-30T18:51:02.000Z'}}}, {'id': 1681, 'name': 'PRIZM', 'symbol': 'PZM', 'slug': 'prizm', 'num_market_pairs': 7, 'date_added': '2017-05-19T00:00:00.000Z', 'tags': [], 'max_supply': 6000000000, 'circulating_supply': 98207374.18, 'total_supply': 98207374.18, 'platform': None, 'cmc_rank': 100, 'last_updated': '2019-08-30T18:51:05.000Z', 'quote': {'INR': {'price': 25.24453238973467, 'volume_24h': 7145940.554661398, 'percent_change_1h': -2.0892, 'percent_change_24h': 2.038, 'percent_change_7d': 15.9882, 'market_cap': 2479199238.3978024, 'last_updated': '2019-08-30T18:51:02.000Z'}}}]}\n"
     ]
    }
   ],
   "source": [
    "try:\n",
    "  response = session.get(url, params=parameters)\n",
    "  res = json.loads(response.text)\n",
    "  print(res)\n",
    "except (ConnectionError, Timeout, TooManyRedirects) as e:\n",
    "  print(e)"
   ]
  },
  {
   "cell_type": "code",
   "execution_count": 4,
   "metadata": {},
   "outputs": [
    {
     "data": {
      "text/plain": [
       "{'id': 1,\n",
       " 'name': 'Bitcoin',\n",
       " 'symbol': 'BTC',\n",
       " 'slug': 'bitcoin',\n",
       " 'num_market_pairs': 7919,\n",
       " 'date_added': '2013-04-28T00:00:00.000Z',\n",
       " 'tags': ['mineable'],\n",
       " 'max_supply': 21000000,\n",
       " 'circulating_supply': 17906012,\n",
       " 'total_supply': 17906012,\n",
       " 'platform': None,\n",
       " 'cmc_rank': 1,\n",
       " 'last_updated': '2019-08-30T18:51:28.000Z',\n",
       " 'quote': {'INR': {'price': 685965.3767442628,\n",
       "   'volume_24h': 985252019788.2831,\n",
       "   'percent_change_1h': -0.1273,\n",
       "   'percent_change_24h': 0.3289,\n",
       "   'percent_change_7d': -8.0058,\n",
       "   'market_cap': 12282904267567.291,\n",
       "   'last_updated': '2019-08-30T18:51:02.000Z'}}}"
      ]
     },
     "execution_count": 4,
     "metadata": {},
     "output_type": "execute_result"
    }
   ],
   "source": [
    "data = res['data']\n",
    "data[0]"
   ]
  },
  {
   "cell_type": "code",
   "execution_count": 5,
   "metadata": {},
   "outputs": [
    {
     "data": {
      "text/plain": [
       "{'BTC': 1,\n",
       " 'ETH': 1027,\n",
       " 'XRP': 52,\n",
       " 'BCH': 1831,\n",
       " 'LTC': 2,\n",
       " 'USDT': 825,\n",
       " 'EOS': 1765,\n",
       " 'BNB': 1839,\n",
       " 'BSV': 3602,\n",
       " 'XLM': 512,\n",
       " 'XMR': 328,\n",
       " 'ADA': 2010,\n",
       " 'LEO': 3957,\n",
       " 'TRX': 1958,\n",
       " 'DASH': 131,\n",
       " 'ETC': 1321,\n",
       " 'XTZ': 2011,\n",
       " 'MIOTA': 1720,\n",
       " 'LINK': 1975,\n",
       " 'NEO': 1376,\n",
       " 'MKR': 1518,\n",
       " 'USDC': 3408,\n",
       " 'XEM': 873,\n",
       " 'ATOM': 3794,\n",
       " 'ONT': 2566,\n",
       " 'CRO': 3635,\n",
       " 'ZEC': 1437,\n",
       " 'DOGE': 74,\n",
       " 'VSYS': 3704,\n",
       " 'DCR': 1168,\n",
       " 'LAMB': 3657,\n",
       " 'VET': 3077,\n",
       " 'BAT': 1697,\n",
       " 'QTUM': 1684,\n",
       " 'PAX': 3330,\n",
       " 'TUSD': 2563,\n",
       " 'BTG': 2083,\n",
       " 'HT': 2502,\n",
       " 'BTM': 1866,\n",
       " 'HEDG': 3662,\n",
       " 'OMG': 1808,\n",
       " 'RVN': 2577,\n",
       " 'LSK': 1214,\n",
       " 'NANO': 1567,\n",
       " 'KCS': 2087,\n",
       " 'BCD': 2222,\n",
       " 'ALGO': 4030,\n",
       " 'THETA': 2416,\n",
       " 'INB': 3116,\n",
       " 'WAVES': 1274,\n",
       " 'BTT': 3718,\n",
       " 'HOT': 2682,\n",
       " 'NRG': 3218,\n",
       " 'ICX': 2099,\n",
       " 'DGB': 109,\n",
       " 'EGT': 2885,\n",
       " 'ZRX': 1896,\n",
       " 'BTS': 463,\n",
       " 'HC': 1903,\n",
       " 'NPXS': 2603,\n",
       " 'REP': 1104,\n",
       " 'AOA': 2874,\n",
       " 'IOST': 2405,\n",
       " 'MONA': 213,\n",
       " 'NEX': 3829,\n",
       " 'KMD': 1521,\n",
       " 'DAI': 2308,\n",
       " 'QNT': 3155,\n",
       " 'MAID': 291,\n",
       " 'SC': 1042,\n",
       " 'XVG': 693,\n",
       " 'RIF': 3701,\n",
       " 'ZIL': 2469,\n",
       " 'AE': 1700,\n",
       " 'GNT': 1455,\n",
       " 'ETP': 1703,\n",
       " 'STEEM': 1230,\n",
       " 'SNT': 1759,\n",
       " 'ARDR': 1320,\n",
       " 'REN': 2539,\n",
       " 'QKC': 2840,\n",
       " 'MCO': 1776,\n",
       " 'GXC': 1750,\n",
       " 'ABBC': 3437,\n",
       " 'ENJ': 2130,\n",
       " 'WTC': 1925,\n",
       " 'XZC': 1414,\n",
       " 'SNX': 2586,\n",
       " 'SOLVE': 3724,\n",
       " 'WAX': 2300,\n",
       " 'BEAM': 3702,\n",
       " 'WAN': 2606,\n",
       " 'STRAT': 1343,\n",
       " 'ELF': 2299,\n",
       " 'ELA': 2492,\n",
       " 'GRIN': 3709,\n",
       " 'NEXO': 2694,\n",
       " 'PAI': 2900,\n",
       " 'ETN': 2137,\n",
       " 'PZM': 1681}"
      ]
     },
     "execution_count": 5,
     "metadata": {},
     "output_type": "execute_result"
    }
   ],
   "source": [
    "ticker_url_pairs = {}\n",
    "\n",
    "for currency in data:\n",
    "    symbol = currency['symbol']\n",
    "    url = currency['id']\n",
    "    ticker_url_pairs[symbol] = url\n",
    "ticker_url_pairs"
   ]
  },
  {
   "cell_type": "markdown",
   "metadata": {},
   "source": [
    "#### create your portfolio from the data received"
   ]
  },
  {
   "cell_type": "code",
   "execution_count": 6,
   "metadata": {},
   "outputs": [],
   "source": [
    "portfolio_value = 0.00\n",
    "convert = 'INR'\n",
    "last_updated = 0\n",
    "table = PrettyTable(['Assets', 'Amount Owned', convert + ' Value', 'Price', '1H Change', '24H Change', '7D Change'])"
   ]
  },
  {
   "cell_type": "code",
   "execution_count": 7,
   "metadata": {},
   "outputs": [],
   "source": [
    "with open('portfolio.txt') as inp:\n",
    "    for line in inp:\n",
    "        ticker, amount = line.split()\n",
    "#         print(type(amount))\n",
    "        ticker = ticker.upper()\n",
    "#         print(ticker)\n",
    "        for i in range(len(data)):\n",
    "            if data[i]['symbol'] == ticker:\n",
    "                currency = data[i]\n",
    "#                 print(currency)\n",
    "                rank = currency['cmc_rank']\n",
    "                name = currency['name']\n",
    "                last_updated = currency['last_updated']\n",
    "                symbol = currency['symbol']\n",
    "                quotes = currency['quote'][convert]\n",
    "                hour_change = quotes['percent_change_1h']\n",
    "                day_change = quotes['percent_change_24h']\n",
    "                week_change = quotes['percent_change_7d']\n",
    "                price = quotes['price']\n",
    "\n",
    "                value = float(price) * float(amount)\n",
    "                value_string = '{:,}'.format(round(value, 2))\n",
    "\n",
    "                portfolio_value += value\n",
    "                \n",
    "                if hour_change>0:\n",
    "                    hour_change = Fore.GREEN + str(hour_change) + '%' + Style.RESET_ALL\n",
    "                else:\n",
    "                    hour_change = Fore.RED + str(hour_change) + '%' + Style.RESET_ALL\n",
    "\n",
    "                if day_change>0:\n",
    "                    day_change = Fore.GREEN + str(day_change) + '%' + Style.RESET_ALL\n",
    "                else:\n",
    "                    day_change = Fore.RED + str(day_change) + '%' + Style.RESET_ALL\n",
    "\n",
    "                if week_change>0:\n",
    "                    week_change = Fore.GREEN + str(week_change) + '%' + Style.RESET_ALL\n",
    "                else:\n",
    "                    week_change = Fore.RED + str(week_change) + '%' + Style.RESET_ALL\n",
    "\n",
    "                table.add_row([name + ' (' + symbol + ')',\n",
    "                               amount,\n",
    "                              '₹' + value_string,\n",
    "                              '₹' + str(price),\n",
    "                              '₹' + str(hour_change),\n",
    "                              '₹' + str(day_change),\n",
    "                              '₹' + str(week_change)])"
   ]
  },
  {
   "cell_type": "code",
   "execution_count": 8,
   "metadata": {},
   "outputs": [
    {
     "name": "stdout",
     "output_type": "stream",
     "text": [
      "\n",
      "MY PORTFOLIO\n",
      "============\n",
      "+----------------+--------------+-------------+---------------------+-----------+------------+------------+\n",
      "|     Assets     | Amount Owned |  INR Value  |        Price        | 1H Change | 24H Change | 7D Change  |\n",
      "+----------------+--------------+-------------+---------------------+-----------+------------+------------+\n",
      "| Bitcoin (BTC)  |     1.3      | ₹891,754.99 |  ₹685965.3767442628 | ₹\u001b[31m-0.1273%\u001b[0m |  ₹\u001b[32m0.3289%\u001b[0m  | ₹\u001b[31m-8.0058%\u001b[0m  |\n",
      "| Litecoin (LTC) |     2.5      |  ₹11,544.96 |  ₹4617.984952880602 | ₹\u001b[31m-0.1476%\u001b[0m | ₹\u001b[31m-0.6052%\u001b[0m  | ₹\u001b[31m-14.3377%\u001b[0m |\n",
      "| Ethereum (ETH) |     3.33     |  ₹40,312.54 | ₹12105.867755879828 |  ₹\u001b[31m-0.033%\u001b[0m | ₹\u001b[31m-0.5108%\u001b[0m  | ₹\u001b[31m-13.1883%\u001b[0m |\n",
      "+----------------+--------------+-------------+---------------------+-----------+------------+------------+\n",
      "Total Portfolio Value: \u001b[32m₹943,612.49\u001b[0m\n",
      "\n",
      "API Results last updated on: ['2019-08-30', '18:51:21.000Z']\n"
     ]
    }
   ],
   "source": [
    "print()\n",
    "print('MY PORTFOLIO')\n",
    "print('============')\n",
    "print(table)\n",
    "portfolio_value_string = '{:,}'.format(round(portfolio_value, 2))\n",
    "print('Total Portfolio Value: ' + Fore.GREEN + '₹'+ portfolio_value_string + Style.RESET_ALL)\n",
    "print()\n",
    "print('API Results last updated on: ' + str(last_updated.split('T')))"
   ]
  },
  {
   "cell_type": "markdown",
   "metadata": {},
   "source": [
    "#### Over!"
   ]
  }
 ],
 "metadata": {
  "kernelspec": {
   "display_name": "Python 3",
   "language": "python",
   "name": "python3"
  },
  "language_info": {
   "codemirror_mode": {
    "name": "ipython",
    "version": 3
   },
   "file_extension": ".py",
   "mimetype": "text/x-python",
   "name": "python",
   "nbconvert_exporter": "python",
   "pygments_lexer": "ipython3",
   "version": "3.7.5"
  }
 },
 "nbformat": 4,
 "nbformat_minor": 2
}
