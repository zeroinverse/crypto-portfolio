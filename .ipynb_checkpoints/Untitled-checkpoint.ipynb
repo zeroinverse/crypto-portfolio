{
 "cells": [
  {
   "cell_type": "markdown",
   "metadata": {},
   "source": [
    "# Global Metrics \n",
    "\n",
    "Returns the latest global cryptocurrency market metrics. Use the \"convert\" option to return market values in multiple fiat and cryptocurrency conversions in the same call."
   ]
  },
  {
   "cell_type": "markdown",
   "metadata": {},
   "source": [
    "#### import required libraries"
   ]
  },
  {
   "cell_type": "code",
   "execution_count": 1,
   "metadata": {},
   "outputs": [],
   "source": [
    "from requests import Request, Session\n",
    "from requests.exceptions import ConnectionError, Timeout, TooManyRedirects\n",
    "import json"
   ]
  },
  {
   "cell_type": "markdown",
   "metadata": {},
   "source": [
    "#### setup the url, headers and parameters"
   ]
  },
  {
   "cell_type": "code",
   "execution_count": 3,
   "metadata": {},
   "outputs": [],
   "source": [
    "url = 'https://sandbox-api.coinmarketcap.com/v1/global-metrics/quotes/latest'\n",
    "\n",
    "parameters = {\n",
    "  'convert':'USD'\n",
    "}\n",
    "\n",
    "headers = {\n",
    "  'Accepts': 'application/json',\n",
    "  'X-CMC_PRO_API_KEY': '966135d2-51e5-4c29-8569-d33453bfaef9',\n",
    "}\n",
    "\n",
    "session = Session()\n",
    "session.headers.update(headers)"
   ]
  },
  {
   "cell_type": "markdown",
   "metadata": {},
   "source": [
    "#### get the response json"
   ]
  },
  {
   "cell_type": "code",
   "execution_count": 4,
   "metadata": {},
   "outputs": [
    {
     "name": "stdout",
     "output_type": "stream",
     "text": [
      "{\n",
      "    \"data\": {\n",
      "        \"active_cryptocurrencies\": 2475,\n",
      "        \"active_exchanges\": 351,\n",
      "        \"active_market_pairs\": 20236,\n",
      "        \"btc_dominance\": 69.44,\n",
      "        \"eth_dominance\": 7.3584,\n",
      "        \"last_updated\": \"2019-08-30T18:50:00.000Z\",\n",
      "        \"quote\": {\n",
      "            \"USD\": {\n",
      "                \"altcoin_market_cap\": 75353479269.7539,\n",
      "                \"altcoin_volume_24h\": 33534327995.5604,\n",
      "                \"altcoin_volume_24h_reported\": 59696268416.2682,\n",
      "                \"last_updated\": \"2019-08-30T18:50:00.000Z\",\n",
      "                \"total_market_cap\": 246575218535.053,\n",
      "                \"total_volume_24h\": 47263740384.9739,\n",
      "                \"total_volume_24h_reported\": 76915954559.0052\n",
      "            }\n",
      "        }\n",
      "    },\n",
      "    \"status\": {\n",
      "        \"credit_count\": 1,\n",
      "        \"elapsed\": 6,\n",
      "        \"error_code\": 0,\n",
      "        \"error_message\": null,\n",
      "        \"timestamp\": \"2019-12-12T16:17:41.977Z\"\n",
      "    }\n",
      "}\n"
     ]
    }
   ],
   "source": [
    "try:\n",
    "  response = session.get(url, params=parameters)\n",
    "  res = response.json()\n",
    "  data = json.dumps(res, sort_keys = True, indent = 4)\n",
    "  print(data)\n",
    "except (ConnectionError, Timeout, TooManyRedirects) as e:\n",
    "  print(e)"
   ]
  },
  {
   "cell_type": "markdown",
   "metadata": {},
   "source": [
    "#### print required data in friendly format"
   ]
  },
  {
   "cell_type": "code",
   "execution_count": 16,
   "metadata": {},
   "outputs": [
    {
     "name": "stdout",
     "output_type": "stream",
     "text": [
      "active_cryptocurrencies: 2475\n"
     ]
    }
   ],
   "source": [
    "active_crypto = res['data']['active_cryptocurrencies']\n",
    "print('active_cryptocurrencies:', active_crypto)"
   ]
  },
  {
   "cell_type": "code",
   "execution_count": 15,
   "metadata": {},
   "outputs": [
    {
     "name": "stdout",
     "output_type": "stream",
     "text": [
      "active_exchanges: 351\n"
     ]
    }
   ],
   "source": [
    "active_exchgs = res['data']['active_exchanges']\n",
    "print('active_exchanges:', active_exchgs)"
   ]
  },
  {
   "cell_type": "code",
   "execution_count": 17,
   "metadata": {},
   "outputs": [
    {
     "name": "stdout",
     "output_type": "stream",
     "text": [
      "last_updated 2019-12-12T16:17:41.977Z\n"
     ]
    }
   ],
   "source": [
    "last_updated = res['status']['timestamp']\n",
    "print('last_updated', last_updated)"
   ]
  },
  {
   "cell_type": "markdown",
   "metadata": {},
   "source": [
    "#### Thanks!"
   ]
  }
 ],
 "metadata": {
  "kernelspec": {
   "display_name": "Python 3",
   "language": "python",
   "name": "python3"
  },
  "language_info": {
   "codemirror_mode": {
    "name": "ipython",
    "version": 3
   },
   "file_extension": ".py",
   "mimetype": "text/x-python",
   "name": "python",
   "nbconvert_exporter": "python",
   "pygments_lexer": "ipython3",
   "version": "3.7.5"
  }
 },
 "nbformat": 4,
 "nbformat_minor": 2
}
